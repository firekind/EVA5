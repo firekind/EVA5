{
 "metadata": {
  "language_info": {
   "codemirror_mode": {
    "name": "ipython",
    "version": 3
   },
   "file_extension": ".py",
   "mimetype": "text/x-python",
   "name": "python",
   "nbconvert_exporter": "python",
   "pygments_lexer": "ipython3",
   "version": "3.7.9-final"
  },
  "orig_nbformat": 2,
  "kernelspec": {
   "name": "python_defaultSpec_1599906793823",
   "display_name": "Python 3.7.9 64-bit ('eva5': conda)"
  }
 },
 "nbformat": 4,
 "nbformat_minor": 2,
 "cells": [
  {
   "cell_type": "code",
   "execution_count": 1,
   "metadata": {
    "tags": []
   },
   "outputs": [
    {
     "output_type": "stream",
     "name": "stdout",
     "text": "Collecting git+https://github.com/firekind/athena\n  Cloning https://github.com/firekind/athena to c:\\users\\shyam\\appdata\\local\\temp\\pip-req-build-qtxdz159\nRequirement already satisfied (use --upgrade to upgrade): athena==0.0.1 from git+https://github.com/firekind/athena in d:\\users\\shyam\\scoop\\apps\\miniconda3\\current\\envs\\eva5\\lib\\site-packages\nRequirement already satisfied: pkbar==0.4 in d:\\users\\shyam\\scoop\\apps\\miniconda3\\current\\envs\\eva5\\lib\\site-packages (from athena==0.0.1) (0.4)\nRequirement already satisfied: torchsummary in d:\\users\\shyam\\scoop\\apps\\miniconda3\\current\\envs\\eva5\\lib\\site-packages (from athena==0.0.1) (1.5.1)\nRequirement already satisfied: tqdm in d:\\users\\shyam\\scoop\\apps\\miniconda3\\current\\envs\\eva5\\lib\\site-packages (from athena==0.0.1) (4.48.2)\nRequirement already satisfied: matplotlib in d:\\users\\shyam\\scoop\\apps\\miniconda3\\current\\envs\\eva5\\lib\\site-packages (from athena==0.0.1) (3.3.1)\nRequirement already satisfied: numpy in d:\\users\\shyam\\scoop\\apps\\miniconda3\\current\\envs\\eva5\\lib\\site-packages (from pkbar==0.4->athena==0.0.1) (1.19.1)\nRequirement already satisfied: pillow>=6.2.0 in d:\\users\\shyam\\scoop\\apps\\miniconda3\\current\\envs\\eva5\\lib\\site-packages (from matplotlib->athena==0.0.1) (7.2.0)\nRequirement already satisfied: certifi>=2020.06.20 in d:\\users\\shyam\\scoop\\apps\\miniconda3\\current\\envs\\eva5\\lib\\site-packages (from matplotlib->athena==0.0.1) (2020.6.20)\nRequirement already satisfied: python-dateutil>=2.1 in d:\\users\\shyam\\scoop\\apps\\miniconda3\\current\\envs\\eva5\\lib\\site-packages (from matplotlib->athena==0.0.1) (2.8.1)\nRequirement already satisfied: pyparsing!=2.0.4,!=2.1.2,!=2.1.6,>=2.0.3 in d:\\users\\shyam\\scoop\\apps\\miniconda3\\current\\envs\\eva5\\lib\\site-packages (from matplotlib->athena==0.0.1) (2.4.7)\nRequirement already satisfied: cycler>=0.10 in d:\\users\\shyam\\scoop\\apps\\miniconda3\\current\\envs\\eva5\\lib\\site-packages (from matplotlib->athena==0.0.1) (0.10.0)\nRequirement already satisfied: kiwisolver>=1.0.1 in d:\\users\\shyam\\scoop\\apps\\miniconda3\\current\\envs\\eva5\\lib\\site-packages (from matplotlib->athena==0.0.1) (1.2.0)\nRequirement already satisfied: six>=1.5 in d:\\users\\shyam\\scoop\\apps\\miniconda3\\current\\envs\\eva5\\lib\\site-packages (from python-dateutil>=2.1->matplotlib->athena==0.0.1) (1.15.0)\nBuilding wheels for collected packages: athena\n  Building wheel for athena (setup.py): started\n  Building wheel for athena (setup.py): finished with status 'done'\n  Created wheel for athena: filename=athena-0.0.1-py3-none-any.whl size=17745 sha256=bc49e0736867abba3e56f7743ee816a8f718af48a4b9f1d67336e8661824153b\n  Stored in directory: C:\\Users\\shyam\\AppData\\Local\\Temp\\pip-ephem-wheel-cache-to90lude\\wheels\\c2\\36\\ea\\fe5a118d0035f6f760fc49471824263f1b0e611bcba3555bde\nSuccessfully built athena\n"
    }
   ],
   "source": [
    "! pip install git+https://github.com/firekind/athena"
   ]
  },
  {
   "cell_type": "code",
   "execution_count": 2,
   "metadata": {},
   "outputs": [],
   "source": [
    "import torch\n",
    "import torch.nn as nn\n",
    "import torch.optim as optim\n",
    "import torch.nn.functional as F\n",
    "from torchsummary import summary\n",
    "from torchvision import transforms\n",
    "import torchvision as tv\n",
    "\n",
    "from athena import ClassificationSolver, Experiment, datasets\n",
    "from athena.layers import GhostBatchNorm"
   ]
  },
  {
   "cell_type": "code",
   "execution_count": 3,
   "metadata": {},
   "outputs": [],
   "source": [
    "device = \"cuda\" if torch.cuda.is_available() else \"cpu\"\n",
    "batch_size = 128 if torch.cuda.is_available() else 64\n",
    "# batch_size = 4\n",
    "epochs = 50"
   ]
  },
  {
   "cell_type": "code",
   "execution_count": 4,
   "metadata": {},
   "outputs": [],
   "source": [
    "class DepthwiseConv2d(nn.Module):\n",
    "    def __init__(self, in_channels, out_channels, kernel_size, padding=0, dilation=1):\n",
    "        super(DepthwiseConv2d, self).__init__()\n",
    "\n",
    "        self.conv = nn.Conv2d(in_channels, in_channels, kernel_size, padding=padding, groups=in_channels, dilation=dilation)\n",
    "        self.point = nn.Conv2d(in_channels, out_channels, 1)\n",
    "\n",
    "    def forward(self, x):\n",
    "        x = self.conv(x)\n",
    "        return self.point(x)"
   ]
  },
  {
   "cell_type": "code",
   "execution_count": 5,
   "metadata": {},
   "outputs": [],
   "source": [
    "class SirNet(nn.Module):\n",
    "    def __init__(self):\n",
    "        super(SirNet, self).__init__()\n",
    "        # self.conv1 = nn.Conv2d(3, 6, 5)\n",
    "        self.conv1 = DepthwiseConv2d(3, 6, 5)\n",
    "        self.pool = nn.MaxPool2d(2, 2)\n",
    "        # self.conv2 = nn.Conv2d(6, 16, 5)\n",
    "        self.conv2 = DepthwiseConv2d(6, 16, 5)\n",
    "        self.fc1 = nn.Linear(16 * 5 * 5, 120)\n",
    "        self.fc2 = nn.Linear(120, 84)\n",
    "        self.fc3 = nn.Linear(84, 10)\n",
    "\n",
    "    def forward(self, x):\n",
    "        x = self.pool(F.relu(self.conv1(x)))\n",
    "        x = self.pool(F.relu(self.conv2(x)))\n",
    "        x = x.view(-1, 16 * 5 * 5)\n",
    "        x = F.relu(self.fc1(x))\n",
    "        x = F.relu(self.fc2(x))\n",
    "        x = self.fc3(x)\n",
    "        return x"
   ]
  },
  {
   "cell_type": "code",
   "execution_count": 6,
   "metadata": {},
   "outputs": [],
   "source": [
    "class Model(nn.Module):\n",
    "    def __init__(self, in_channels = 3, dropout_value = 0.25):\n",
    "        super(Model, self).__init__()\n",
    "\n",
    "        self.block1 = nn.Sequential(\n",
    "            DepthwiseConv2d(3, 32, 3, padding=1, dilation=2),\n",
    "            nn.BatchNorm2d(32),\n",
    "            nn.ReLU(),\n",
    "            nn.Dropout(dropout_value),\n",
    "            \n",
    "            DepthwiseConv2d(32, 64, 3, padding=1),\n",
    "            nn.BatchNorm2d(64),\n",
    "            nn.ReLU(),\n",
    "            nn.Dropout(dropout_value),\n",
    "\n",
    "            DepthwiseConv2d(64, 128, 3, padding=1),\n",
    "            nn.BatchNorm2d(128),\n",
    "            nn.ReLU(),\n",
    "            nn.Dropout(dropout_value),\n",
    "        )\n",
    "\n",
    "        self.transition1 = nn.Sequential(\n",
    "            nn.MaxPool2d(2, 2),\n",
    "            nn.Conv2d(128, 32, 1),\n",
    "        )\n",
    "\n",
    "        self.block2 = nn.Sequential(\n",
    "            DepthwiseConv2d(32, 64, 3, padding=1),\n",
    "            nn.BatchNorm2d(64),\n",
    "            nn.ReLU(),\n",
    "            nn.Dropout(dropout_value),\n",
    "            \n",
    "            DepthwiseConv2d(64, 128, 3, padding=1),\n",
    "            nn.BatchNorm2d(128),\n",
    "            nn.ReLU(),\n",
    "            nn.Dropout(dropout_value),\n",
    "\n",
    "            DepthwiseConv2d(128, 256, 3, padding=1),\n",
    "            nn.BatchNorm2d(256),\n",
    "            nn.ReLU(),\n",
    "            nn.Dropout(dropout_value),\n",
    "        )\n",
    "\n",
    "        self.transition2 = nn.Sequential(\n",
    "            nn.MaxPool2d(2, 2),\n",
    "            nn.Conv2d(256, 64, 1),\n",
    "        )\n",
    "\n",
    "        self.block3 = nn.Sequential(\n",
    "            DepthwiseConv2d(64, 128, 3, padding=1),\n",
    "            nn.BatchNorm2d(128),\n",
    "            nn.ReLU(),\n",
    "            nn.Dropout(dropout_value),\n",
    "            \n",
    "            DepthwiseConv2d(128, 256, 3, padding=1),\n",
    "            nn.BatchNorm2d(256),\n",
    "            nn.ReLU(),\n",
    "            nn.Dropout(dropout_value),\n",
    "\n",
    "            DepthwiseConv2d(256, 256, 3, padding=1),\n",
    "            nn.BatchNorm2d(256),\n",
    "            nn.ReLU(),\n",
    "            nn.Dropout(dropout_value),\n",
    "        )\n",
    "\n",
    "        self.out_block = nn.Sequential(\n",
    "            nn.AvgPool2d(7),\n",
    "            nn.Conv2d(256, 64, 1),\n",
    "            nn.Conv2d(64, 10, 1),\n",
    "        )\n",
    "\n",
    "    def forward(self, x):\n",
    "        x = self.block1(x)\n",
    "        x = self.transition1(x)\n",
    "        x = self.block2(x)\n",
    "        x = self.transition2(x)\n",
    "        x = self.block3(x)\n",
    "        x = self.out_block(x)\n",
    "\n",
    "        x = x.view(-1, 10)\n",
    "        return F.log_softmax(x, dim=-1)"
   ]
  },
  {
   "cell_type": "code",
   "execution_count": 7,
   "metadata": {
    "tags": []
   },
   "outputs": [
    {
     "output_type": "stream",
     "name": "stdout",
     "text": "----------------------------------------------------------------\n        Layer (type)               Output Shape         Param #\n================================================================\n            Conv2d-1            [-1, 3, 30, 30]              30\n            Conv2d-2           [-1, 32, 30, 30]             128\n   DepthwiseConv2d-3           [-1, 32, 30, 30]               0\n       BatchNorm2d-4           [-1, 32, 30, 30]              64\n              ReLU-5           [-1, 32, 30, 30]               0\n           Dropout-6           [-1, 32, 30, 30]               0\n            Conv2d-7           [-1, 32, 30, 30]             320\n            Conv2d-8           [-1, 64, 30, 30]           2,112\n   DepthwiseConv2d-9           [-1, 64, 30, 30]               0\n      BatchNorm2d-10           [-1, 64, 30, 30]             128\n             ReLU-11           [-1, 64, 30, 30]               0\n          Dropout-12           [-1, 64, 30, 30]               0\n           Conv2d-13           [-1, 64, 30, 30]             640\n           Conv2d-14          [-1, 128, 30, 30]           8,320\n  DepthwiseConv2d-15          [-1, 128, 30, 30]               0\n      BatchNorm2d-16          [-1, 128, 30, 30]             256\n             ReLU-17          [-1, 128, 30, 30]               0\n          Dropout-18          [-1, 128, 30, 30]               0\n        MaxPool2d-19          [-1, 128, 15, 15]               0\n           Conv2d-20           [-1, 32, 15, 15]           4,128\n           Conv2d-21           [-1, 32, 15, 15]             320\n           Conv2d-22           [-1, 64, 15, 15]           2,112\n  DepthwiseConv2d-23           [-1, 64, 15, 15]               0\n      BatchNorm2d-24           [-1, 64, 15, 15]             128\n             ReLU-25           [-1, 64, 15, 15]               0\n          Dropout-26           [-1, 64, 15, 15]               0\n           Conv2d-27           [-1, 64, 15, 15]             640\n           Conv2d-28          [-1, 128, 15, 15]           8,320\n  DepthwiseConv2d-29          [-1, 128, 15, 15]               0\n      BatchNorm2d-30          [-1, 128, 15, 15]             256\n             ReLU-31          [-1, 128, 15, 15]               0\n          Dropout-32          [-1, 128, 15, 15]               0\n           Conv2d-33          [-1, 128, 15, 15]           1,280\n           Conv2d-34          [-1, 256, 15, 15]          33,024\n  DepthwiseConv2d-35          [-1, 256, 15, 15]               0\n      BatchNorm2d-36          [-1, 256, 15, 15]             512\n             ReLU-37          [-1, 256, 15, 15]               0\n          Dropout-38          [-1, 256, 15, 15]               0\n        MaxPool2d-39            [-1, 256, 7, 7]               0\n           Conv2d-40             [-1, 64, 7, 7]          16,448\n           Conv2d-41             [-1, 64, 7, 7]             640\n           Conv2d-42            [-1, 128, 7, 7]           8,320\n  DepthwiseConv2d-43            [-1, 128, 7, 7]               0\n      BatchNorm2d-44            [-1, 128, 7, 7]             256\n             ReLU-45            [-1, 128, 7, 7]               0\n          Dropout-46            [-1, 128, 7, 7]               0\n           Conv2d-47            [-1, 128, 7, 7]           1,280\n           Conv2d-48            [-1, 256, 7, 7]          33,024\n  DepthwiseConv2d-49            [-1, 256, 7, 7]               0\n      BatchNorm2d-50            [-1, 256, 7, 7]             512\n             ReLU-51            [-1, 256, 7, 7]               0\n          Dropout-52            [-1, 256, 7, 7]               0\n           Conv2d-53            [-1, 256, 7, 7]           2,560\n           Conv2d-54            [-1, 256, 7, 7]          65,792\n  DepthwiseConv2d-55            [-1, 256, 7, 7]               0\n      BatchNorm2d-56            [-1, 256, 7, 7]             512\n             ReLU-57            [-1, 256, 7, 7]               0\n          Dropout-58            [-1, 256, 7, 7]               0\n        AvgPool2d-59            [-1, 256, 1, 1]               0\n           Conv2d-60             [-1, 64, 1, 1]          16,448\n           Conv2d-61             [-1, 10, 1, 1]             650\n================================================================\nTotal params: 209,160\nTrainable params: 209,160\nNon-trainable params: 0\n----------------------------------------------------------------\nInput size (MB): 0.01\nForward/backward pass size (MB): 14.36\nParams size (MB): 0.80\nEstimated Total Size (MB): 15.17\n----------------------------------------------------------------\n"
    }
   ],
   "source": [
    "summary(Model().to(device), input_size=(3, 32, 32))"
   ]
  },
  {
   "cell_type": "code",
   "execution_count": 8,
   "metadata": {
    "tags": []
   },
   "outputs": [
    {
     "output_type": "stream",
     "name": "stdout",
     "text": "Files already downloaded and verified\nFiles already downloaded and verified\n"
    }
   ],
   "source": [
    "train_transform = transforms.Compose([\n",
    "            transforms.Grayscale(3),\n",
    "            transforms.ToTensor(),  # Converting to Tensor\n",
    "            transforms.Normalize((0.5, 0.5, 0.5), (0.5, 0.5, 0.5)),  # Normalizing\n",
    "])\n",
    "\n",
    "train_loader = datasets.cifar10(download=True, batch_size=batch_size, use_default_transforms=True)\n",
    "test_loader = datasets.cifar10(train=False, download=True, batch_size=batch_size, use_default_transforms=True)"
   ]
  },
  {
   "cell_type": "code",
   "execution_count": 9,
   "metadata": {
    "tags": []
   },
   "outputs": [],
   "source": [
    "# dataiter = iter(train_loader)\n",
    "# img, labels = dataiter.next()\n",
    "# print(img.shape)\n",
    "# print(labels.shape)"
   ]
  },
  {
   "cell_type": "code",
   "execution_count": 10,
   "metadata": {
    "tags": []
   },
   "outputs": [],
   "source": [
    "exps = []\n",
    "net = SirNet().to(device)\n",
    "optimizer = optim.SGD(net.parameters(), lr=0.001, momentum=0.9)\n",
    "exp1 = Experiment(\n",
    "    name=\"Sir's Model\",\n",
    "    model=net,\n",
    "    solver_cls=ClassificationSolver,\n",
    "    train_args=dict(\n",
    "        epochs=epochs,\n",
    "        train_loader=train_loader,\n",
    "        test_loader=test_loader,\n",
    "        optimizer=optimizer,\n",
    "        device=device,\n",
    "        loss_fn=F.cross_entropy\n",
    "    )\n",
    ")\n",
    "exps.append(exp1)"
   ]
  },
  {
   "cell_type": "code",
   "execution_count": 11,
   "metadata": {},
   "outputs": [],
   "source": [
    "model = Model().to(device)\n",
    "# model = tv.models.vgg13(pretrained=False).to(device)\n",
    "optimizer = optim.SGD(model.parameters(), lr=0.008, momentum=0.95)\n",
    "exp2 = Experiment(\n",
    "    name=\"My Model\",\n",
    "    model=model,\n",
    "    solver_cls=ClassificationSolver,\n",
    "    train_args=dict(\n",
    "        epochs=epochs,\n",
    "        train_loader=train_loader,\n",
    "        test_loader=test_loader,\n",
    "        optimizer=optimizer,\n",
    "        device=device,\n",
    "    )\n",
    ")\n",
    "exps.append(exp2)"
   ]
  },
  {
   "cell_type": "code",
   "execution_count": 12,
   "metadata": {
    "tags": []
   },
   "outputs": [
    {
     "output_type": "stream",
     "name": "stdout",
     "text": "\u001b[1m\u001b[92m=> Running experiment: My Model\u001b[0m\n\u001b[1m\u001b[93mWarning:\u001b[0m Loss function not specified. Using nll loss.\nEpoch: 1 / 50\n391/391 [==============================] - 22s 57ms/step - loss: 1.4276 - accuracy: 28.9240\nTest set: Average loss: 3.6280, Accuracy: 1277/10000 (12.77%)\n\nEpoch: 2 / 50\n391/391 [==============================] - 22s 56ms/step - loss: 1.4227 - accuracy: 47.1620\nTest set: Average loss: 2.8430, Accuracy: 1729/10000 (17.29%)\n\nEpoch: 3 / 50\n391/391 [==============================] - 22s 57ms/step - loss: 1.1700 - accuracy: 55.0080\nTest set: Average loss: 2.7644, Accuracy: 2066/10000 (20.66%)\n\nEpoch: 4 / 50\n391/391 [==============================] - 22s 56ms/step - loss: 1.2075 - accuracy: 60.2040\nTest set: Average loss: 2.3995, Accuracy: 2745/10000 (27.45%)\n\nEpoch: 5 / 50\n391/391 [==============================] - 22s 56ms/step - loss: 1.0200 - accuracy: 63.5800\nTest set: Average loss: 2.1268, Accuracy: 3419/10000 (34.19%)\n\nEpoch: 6 / 50\n391/391 [==============================] - 22s 57ms/step - loss: 0.9769 - accuracy: 66.4560\nTest set: Average loss: 1.7748, Accuracy: 4381/10000 (43.81%)\n\nEpoch: 7 / 50\n391/391 [==============================] - 22s 56ms/step - loss: 1.0949 - accuracy: 68.9440\nTest set: Average loss: 1.7476, Accuracy: 4692/10000 (46.92%)\n\nEpoch: 8 / 50\n391/391 [==============================] - 22s 56ms/step - loss: 0.7911 - accuracy: 70.8300\nTest set: Average loss: 1.3926, Accuracy: 5231/10000 (52.31%)\n\nEpoch: 9 / 50\n391/391 [==============================] - 22s 57ms/step - loss: 0.7243 - accuracy: 72.3740\nTest set: Average loss: 1.3398, Accuracy: 5482/10000 (54.82%)\n\nEpoch: 10 / 50\n391/391 [==============================] - 22s 57ms/step - loss: 0.8101 - accuracy: 73.7560\nTest set: Average loss: 1.2076, Accuracy: 5902/10000 (59.02%)\n\nEpoch: 11 / 50\n391/391 [==============================] - 22s 57ms/step - loss: 0.5416 - accuracy: 74.7180\nTest set: Average loss: 1.2011, Accuracy: 6025/10000 (60.25%)\n\nEpoch: 12 / 50\n391/391 [==============================] - 22s 57ms/step - loss: 0.6970 - accuracy: 75.2300\nTest set: Average loss: 1.0867, Accuracy: 6256/10000 (62.56%)\n\nEpoch: 13 / 50\n391/391 [==============================] - 22s 57ms/step - loss: 0.6530 - accuracy: 76.5060\nTest set: Average loss: 0.9953, Accuracy: 6596/10000 (65.96%)\n\nEpoch: 14 / 50\n391/391 [==============================] - 22s 57ms/step - loss: 0.6301 - accuracy: 77.0800\nTest set: Average loss: 1.0171, Accuracy: 6510/10000 (65.10%)\n\nEpoch: 15 / 50\n391/391 [==============================] - 22s 57ms/step - loss: 0.5665 - accuracy: 77.8160\nTest set: Average loss: 0.9521, Accuracy: 6674/10000 (66.74%)\n\nEpoch: 16 / 50\n391/391 [==============================] - 22s 57ms/step - loss: 0.6071 - accuracy: 78.3220\nTest set: Average loss: 0.9190, Accuracy: 6820/10000 (68.20%)\n\nEpoch: 17 / 50\n391/391 [==============================] - 22s 57ms/step - loss: 0.6884 - accuracy: 78.7360\nTest set: Average loss: 1.0518, Accuracy: 6510/10000 (65.10%)\n\nEpoch: 18 / 50\n391/391 [==============================] - 22s 57ms/step - loss: 0.7555 - accuracy: 79.0440\nTest set: Average loss: 0.7965, Accuracy: 7185/10000 (71.85%)\n\nEpoch: 19 / 50\n391/391 [==============================] - 22s 57ms/step - loss: 0.6240 - accuracy: 79.7280\nTest set: Average loss: 0.8519, Accuracy: 7004/10000 (70.04%)\n\nEpoch: 20 / 50\n391/391 [==============================] - 22s 57ms/step - loss: 0.6539 - accuracy: 79.9780\nTest set: Average loss: 0.8230, Accuracy: 7183/10000 (71.83%)\n\nEpoch: 21 / 50\n391/391 [==============================] - 22s 57ms/step - loss: 0.6188 - accuracy: 80.8300\nTest set: Average loss: 0.8213, Accuracy: 7179/10000 (71.79%)\n\nEpoch: 22 / 50\n391/391 [==============================] - 22s 57ms/step - loss: 0.6769 - accuracy: 80.8400\nTest set: Average loss: 0.8070, Accuracy: 7252/10000 (72.52%)\n\nEpoch: 23 / 50\n391/391 [==============================] - 22s 56ms/step - loss: 0.5024 - accuracy: 81.3300\nTest set: Average loss: 0.7407, Accuracy: 7477/10000 (74.77%)\n\nEpoch: 24 / 50\n391/391 [==============================] - 22s 57ms/step - loss: 0.7644 - accuracy: 81.4620\nTest set: Average loss: 0.8598, Accuracy: 7059/10000 (70.59%)\n\nEpoch: 25 / 50\n391/391 [==============================] - 22s 57ms/step - loss: 0.5223 - accuracy: 81.8920\nTest set: Average loss: 0.7959, Accuracy: 7280/10000 (72.80%)\n\nEpoch: 26 / 50\n391/391 [==============================] - 22s 56ms/step - loss: 0.4610 - accuracy: 82.1520\nTest set: Average loss: 0.6389, Accuracy: 7749/10000 (77.49%)\n\nEpoch: 27 / 50\n391/391 [==============================] - 22s 56ms/step - loss: 0.5387 - accuracy: 82.2640\nTest set: Average loss: 0.6835, Accuracy: 7668/10000 (76.68%)\n\nEpoch: 28 / 50\n391/391 [==============================] - 22s 57ms/step - loss: 0.4983 - accuracy: 82.6420\nTest set: Average loss: 0.7205, Accuracy: 7484/10000 (74.84%)\n\nEpoch: 29 / 50\n391/391 [==============================] - 22s 57ms/step - loss: 0.5544 - accuracy: 82.8720\nTest set: Average loss: 0.6402, Accuracy: 7851/10000 (78.51%)\n\nEpoch: 30 / 50\n391/391 [==============================] - 22s 57ms/step - loss: 0.4789 - accuracy: 83.1600\nTest set: Average loss: 0.7454, Accuracy: 7370/10000 (73.70%)\n\nEpoch: 31 / 50\n391/391 [==============================] - 22s 57ms/step - loss: 0.4144 - accuracy: 83.5460\nTest set: Average loss: 0.7765, Accuracy: 7391/10000 (73.91%)\n\nEpoch: 32 / 50\n391/391 [==============================] - 22s 57ms/step - loss: 0.4453 - accuracy: 83.6220\nTest set: Average loss: 0.7818, Accuracy: 7389/10000 (73.89%)\n\nEpoch: 33 / 50\n391/391 [==============================] - 22s 56ms/step - loss: 0.5808 - accuracy: 83.8960\nTest set: Average loss: 0.6225, Accuracy: 7881/10000 (78.81%)\n\nEpoch: 34 / 50\n391/391 [==============================] - 22s 57ms/step - loss: 0.6131 - accuracy: 84.1920\nTest set: Average loss: 0.6204, Accuracy: 7854/10000 (78.54%)\n\nEpoch: 35 / 50\n391/391 [==============================] - 22s 57ms/step - loss: 0.4247 - accuracy: 84.2100\nTest set: Average loss: 0.6506, Accuracy: 7781/10000 (77.81%)\n\nEpoch: 36 / 50\n391/391 [==============================] - 22s 57ms/step - loss: 0.3533 - accuracy: 84.3540\nTest set: Average loss: 0.6566, Accuracy: 7764/10000 (77.64%)\n\nEpoch: 37 / 50\n391/391 [==============================] - 22s 57ms/step - loss: 0.4662 - accuracy: 84.6220\nTest set: Average loss: 0.7075, Accuracy: 7654/10000 (76.54%)\n\nEpoch: 38 / 50\n391/391 [==============================] - 22s 57ms/step - loss: 0.3921 - accuracy: 84.5640\nTest set: Average loss: 0.6715, Accuracy: 7784/10000 (77.84%)\n\nEpoch: 39 / 50\n391/391 [==============================] - 22s 57ms/step - loss: 0.3622 - accuracy: 85.1600\nTest set: Average loss: 0.6736, Accuracy: 7716/10000 (77.16%)\n\nEpoch: 40 / 50\n391/391 [==============================] - 22s 57ms/step - loss: 0.4339 - accuracy: 85.2380\nTest set: Average loss: 0.6094, Accuracy: 7931/10000 (79.31%)\n\nEpoch: 41 / 50\n391/391 [==============================] - 22s 57ms/step - loss: 0.5674 - accuracy: 85.3940\nTest set: Average loss: 0.7102, Accuracy: 7643/10000 (76.43%)\n\nEpoch: 42 / 50\n391/391 [==============================] - 22s 57ms/step - loss: 0.2930 - accuracy: 85.6440\nTest set: Average loss: 0.6694, Accuracy: 7752/10000 (77.52%)\n\nEpoch: 43 / 50\n391/391 [==============================] - 22s 57ms/step - loss: 0.3168 - accuracy: 85.5960\nTest set: Average loss: 0.6329, Accuracy: 7809/10000 (78.09%)\n\nEpoch: 44 / 50\n391/391 [==============================] - 22s 57ms/step - loss: 0.4943 - accuracy: 85.9320\nTest set: Average loss: 0.6805, Accuracy: 7713/10000 (77.13%)\n\nEpoch: 45 / 50\n391/391 [==============================] - 22s 57ms/step - loss: 0.4747 - accuracy: 85.8720\nTest set: Average loss: 0.6896, Accuracy: 7699/10000 (76.99%)\n\nEpoch: 46 / 50\n391/391 [==============================] - 22s 57ms/step - loss: 0.3993 - accuracy: 86.1360\nTest set: Average loss: 0.6002, Accuracy: 7952/10000 (79.52%)\n\nEpoch: 47 / 50\n391/391 [==============================] - 22s 57ms/step - loss: 0.6519 - accuracy: 86.4520\nTest set: Average loss: 0.5835, Accuracy: 8023/10000 (80.23%)\n\nEpoch: 48 / 50\n391/391 [==============================] - 22s 57ms/step - loss: 0.3986 - accuracy: 86.6340\nTest set: Average loss: 0.5913, Accuracy: 7976/10000 (79.76%)\n\nEpoch: 49 / 50\n391/391 [==============================] - 22s 57ms/step - loss: 0.5389 - accuracy: 86.4340\nTest set: Average loss: 0.6903, Accuracy: 7725/10000 (77.25%)\n\nEpoch: 50 / 50\n391/391 [==============================] - 22s 56ms/step - loss: 0.4396 - accuracy: 86.8500\nTest set: Average loss: 0.6575, Accuracy: 7805/10000 (78.05%)\n\n"
    }
   ],
   "source": [
    "# for e in exps:\n",
    "#     e.run()\n",
    "exp2.run()"
   ]
  }
 ]
}